{
 "cells": [
  {
   "cell_type": "code",
   "execution_count": 5,
   "metadata": {},
   "outputs": [],
   "source": [
    "from astropy.io import fits\n",
    "import os\n",
    "import numpy as np\n",
    "\n",
    "control_path = r\"C:\\Users\\Sam Whitebook\\Documents\\Visual Studio 2010\\Projects\\Lubin Lab\\Data\\KOI-5156_OUT\"\n",
    "control_files = os.listdir(control_path)\n",
    "control_files = np.array(control_files)"
   ]
  },
  {
   "cell_type": "code",
   "execution_count": 7,
   "metadata": {},
   "outputs": [],
   "source": [
    "header = fits.open(control_path + \"\\\\\" + control_files[0])[1].header\n",
    "data = fits.open(control_path + \"\\\\\" + control_files[0])[4].data'"
   ]
  },
  {
   "cell_type": "code",
   "execution_count": 8,
   "metadata": {},
   "outputs": [],
   "source": [
    "fits.writeto(r\"C:\\Users\\Sam Whitebook\\Documents\\FitsOutput\\Alex_test_garbage.fits\", data, header, overwrite=True)"
   ]
  }
 ],
 "metadata": {
  "kernelspec": {
   "display_name": "Python 3.9.2 64-bit",
   "language": "python",
   "name": "python3"
  },
  "language_info": {
   "codemirror_mode": {
    "name": "ipython",
    "version": 3
   },
   "file_extension": ".py",
   "mimetype": "text/x-python",
   "name": "python",
   "nbconvert_exporter": "python",
   "pygments_lexer": "ipython3",
   "version": "3.9.2"
  },
  "orig_nbformat": 4,
  "vscode": {
   "interpreter": {
    "hash": "2279f055fc79bfa7f36518c703541e0c00c4ba8691d8c0969e7fe2aaddd10293"
   }
  }
 },
 "nbformat": 4,
 "nbformat_minor": 2
}
