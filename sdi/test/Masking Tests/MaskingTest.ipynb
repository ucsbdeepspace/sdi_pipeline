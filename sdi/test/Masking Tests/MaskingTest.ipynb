{
 "cells": [
  {
   "cell_type": "code",
   "execution_count": 4,
   "metadata": {},
   "outputs": [],
   "source": [
    "import time\n",
    "import sep\n",
    "import glob\n",
    "#import ois\n",
    "import numpy as np\n",
    "import astropy.units as u\n",
    "import matplotlib.pyplot as plt\n",
    "import astroalign as aa\n",
    "from astropy.io import fits\n",
    "from astropy.coordinates import SkyCoord\n",
    "from photutils import CircularAperture\n",
    "from photutils.centroids import centroid_sources\n",
    "from photutils.aperture import aperture_photometry\n",
    "from astropy.wcs.utils import skycoord_to_pixel, pixel_to_skycoord\n",
    "from astropy.coordinates import ICRS, FK5\n",
    "from regions import CirclePixelRegion, PixCoord"
   ]
  },
  {
   "cell_type": "code",
   "execution_count": 5,
   "metadata": {},
   "outputs": [],
   "source": [
    "#Bunch of empty arrays for various things. They all live up here for conveniance. Most are used, some aren't and are leftover from older versions/things I tried.\n",
    "hdus = []\n",
    "aa_images = []\n",
    "\n",
    "idex = []\n",
    "cents = []\n",
    "info = []\n",
    "comb = []\n",
    "masked_ims = []\n",
    "bsims = []\n",
    "residuals = []\n",
    "cpu = []\n",
    "ram = []"
   ]
  },
  {
   "cell_type": "code",
   "execution_count": 6,
   "metadata": {},
   "outputs": [],
   "source": [
    "c = 0 #counter \n",
    "mask_count = 0 #another counter\n",
    "start = time.time() #time tracker for how long the \"pipeline\" runs.\n",
    "\n",
    "outstr = \"/home/luca/Desktop/Stats/v7/res{}.fits.fz\" #write out string for residuals, edit for your filepath. \n",
    "#IN MY EXTREMELY RIGOUROUS TESTING, I'VE FOUND IT'S BEST TO USE SETS WITH MORE THAN 100 IMAGES.\n",
    "files = sorted(glob.glob(\"/home/luca/Desktop/Stats/temp/*.fz\")) #science directory, sorted."
   ]
  },
  {
   "cell_type": "code",
   "execution_count": 7,
   "metadata": {},
   "outputs": [],
   "source": [
    "def mask(img, srcs, c): #masking function. Takes science image, list of sources (positions), and counter from above. \n",
    "    dat = img\n",
    "    empty_mask = np.zeros([dat.shape[0]+100, dat.shape[1]+100]) # zeros array with the dimensions of the science image +100 pixels. The additional buffer allows masking of edge sources, this is cropped out later\n",
    "    blend_mask = np.ones([dat.shape[0]+100, dat.shape[1]+100]) #ones array with dimensions of science image + 100pixels\n",
    "    \n",
    "    for i, s in enumerate(srcs):\n",
    "        x_cen = s['x']\n",
    "        y_cen = s['y']\n",
    "        radius = ((s['xmax'] - s['xmin'])/2) + 3 #adds a bit to the radius to avoid leaving a halo/fringe on the outer edge\n",
    "        print(x_cen, y_cen, radius)\n",
    "        #This was to add some additional pixels to the radius for the template but not necessary.\n",
    "        #if c == -1:\n",
    "            #radius += 5 \n",
    "        #info.append([x_cen, y_cen, radius])\n",
    "        center_2 = PixCoord(x_cen+50, y_cen+50)\n",
    "        #print(center_2, radius)\n",
    "        #print(type(center_2))\n",
    "         \n",
    "        circle = CirclePixelRegion(center_2, radius) \n",
    "        mask = circle.to_mask() #this and the previous line make a \"circle\" array with ones\n",
    "        app2 = CircularAperture([x_cen , y_cen] , radius) \n",
    "        app_phot2 = aperture_photometry(dat, app2) #aperture sum\n",
    "        blend_val = app_phot2['aperture_sum'][0]/(np.pi*radius**2) #averaging the sum value over the area of the source\n",
    "        empty_mask[mask.bbox.slices] += mask*blend_val #applies each mask times the averaged value to the empty frame\n",
    "        blend_mask[mask.bbox.slices] -= mask #applies the mask to the ones array, essentially leaving negative space where each source is (not actually negative values but negative space in the desgin sense)\n",
    "        \n",
    "    dlt = np.arange(0, 50, 1) #cropping for the zeros array\n",
    "    del1 = np.delete(empty_mask, [i for i in dlt], axis=0)\n",
    "    del2 = np.delete(del1, [i +dat.shape[0] for i in dlt], axis=0)\n",
    "    del3 = np.delete(del2, [i for i in dlt], axis=1)\n",
    "    del4 = np.delete(del3, [i + dat.shape[1] for i in dlt], axis=1)\n",
    "\n",
    "    del1a = np.delete(blend_mask, [i for i in dlt], axis=0) #cropping for the ones array\n",
    "    del2a = np.delete(del1a, [i +dat.shape[0] for i in dlt], axis=0)\n",
    "    del3a = np.delete(del2a, [i for i in dlt], axis=1)\n",
    "    del4a = np.delete(del3a, [i + dat.shape[1] for i in dlt], axis=1)\n",
    "\n",
    "    masked_im = np.multiply(dat, del4a) #applies negative space (blend_mask) to science image, zeroing out the original sources\n",
    "    blended_im  = masked_im + del4 #appalies psf averaged sources back to the original frame.\n",
    "    return blended_im"
   ]
  },
  {
   "cell_type": "code",
   "execution_count": 8,
   "metadata": {},
   "outputs": [
    {
     "ename": "IndexError",
     "evalue": "list index out of range",
     "output_type": "error",
     "traceback": [
      "\u001b[1;31m---------------------------------------------------------------------------\u001b[0m",
      "\u001b[1;31mIndexError\u001b[0m                                Traceback (most recent call last)",
      "\u001b[1;32mUntitled-1.ipynb Cell 5\u001b[0m in \u001b[0;36m<cell line: 5>\u001b[1;34m()\u001b[0m\n\u001b[0;32m      <a href='vscode-notebook-cell:Untitled-1.ipynb?jupyter-notebook#W1sdW50aXRsZWQ%3D?line=1'>2</a>\u001b[0m     hdu \u001b[39m=\u001b[39m fits\u001b[39m.\u001b[39mopen(fit)\n\u001b[0;32m      <a href='vscode-notebook-cell:Untitled-1.ipynb?jupyter-notebook#W1sdW50aXRsZWQ%3D?line=2'>3</a>\u001b[0m     hdus\u001b[39m.\u001b[39mappend(hdu)\n\u001b[1;32m----> <a href='vscode-notebook-cell:Untitled-1.ipynb?jupyter-notebook#W1sdW50aXRsZWQ%3D?line=4'>5</a>\u001b[0m aa_images\u001b[39m.\u001b[39mappend((hdus[\u001b[39m0\u001b[39;49m])[\u001b[39m1\u001b[39m]\u001b[39m.\u001b[39mdata) \u001b[39m#adds first image in set separately since we are aligning everything else to that image; i.e. it doesn't makes sense to align an image to itself. \u001b[39;00m\n\u001b[0;32m      <a href='vscode-notebook-cell:Untitled-1.ipynb?jupyter-notebook#W1sdW50aXRsZWQ%3D?line=5'>6</a>\u001b[0m \u001b[39mfor\u001b[39;00m im \u001b[39min\u001b[39;00m hdus[\u001b[39m1\u001b[39m:]:\u001b[39m#aligns all images in hdus except the first, to the first\u001b[39;00m\n\u001b[0;32m      <a href='vscode-notebook-cell:Untitled-1.ipynb?jupyter-notebook#W1sdW50aXRsZWQ%3D?line=6'>7</a>\u001b[0m     aligned \u001b[39m=\u001b[39m aa\u001b[39m.\u001b[39mregister(im[\u001b[39m1\u001b[39m]\u001b[39m.\u001b[39mdata, (hdus[\u001b[39m0\u001b[39m])[\u001b[39m1\u001b[39m]\u001b[39m.\u001b[39mdata)[\u001b[39m0\u001b[39m] \u001b[39m#align each image (except the first) to the first image in the set. aa.register returns aligned and footprint [0] index returns aligned\u001b[39;00m\n",
      "\u001b[1;31mIndexError\u001b[0m: list index out of range"
     ]
    }
   ],
   "source": [
    "for fit in files: #actual start of code, opens files\n",
    "    hdu = fits.open(fit)\n",
    "    hdus.append(hdu)\n",
    "\n",
    "aa_images.append((hdus[0])[1].data) #adds first image in set separately since we are aligning everything else to that image; i.e. it doesn't makes sense to align an image to itself. \n",
    "for im in hdus[1:]:#aligns all images in hdus except the first, to the first\n",
    "    aligned = aa.register(im[1].data, (hdus[0])[1].data)[0] #align each image (except the first) to the first image in the set. aa.register returns aligned and footprint [0] index returns aligned\n",
    "    aa_images.append(aligned)\n",
    "\n",
    "bkg0 = sep.Background((hdus[0])[1].data) #background sub\n",
    "extracted0 = sep.extract((hdus[0])[1].data -bkg0.back(), bkg0.globalrms *3, minarea = 5, segmentation_map = False) #source extractor run since the LCO BANZAI SEP run has weird settings and didn't pick up enough sources\n",
    "#print(len(extracted0))\n",
    "\n",
    "\n",
    "\n",
    "tracker = 0 #counter for debugging. \n",
    "for img in aa_images:\n",
    "    masked_ims.append(mask(img, extracted0, c)) #runs each aligned image through masking\n",
    "    #masked_ims.append(img)\n",
    "    print(tracker)\n",
    "    tracker +=1\n",
    "c = -1 #allows you to run masking differently for the templeate if you want\n",
    "template = np.median(aa_images, axis = 0) #makes template\n",
    "blend_template = mask(template, extracted0, c) #masks template\n",
    "    \n",
    "\n",
    "#just writes out the masked and unmasked templates so they are available to look at\n",
    "temp_out = fits.PrimaryHDU(template) \n",
    "temp_out.writeto(\"/home/luca/Desktop/Stats/7imgtemplate2\")\n",
    "btemp_out = fits.PrimaryHDU(blend_template)\n",
    "btemp_out.writeto(\"/home/luca/Desktop/Stats/7imgtemplateblend2\")\n",
    "\n",
    "\n",
    "for msk in masked_ims:\n",
    "    residuals.append(np.subtract(msk, blend_template))\n",
    "    #residuals.append(ois.optimal_system(image=msk, refimage=template, method='Bramich')[0])\n",
    "\n",
    "\n",
    "counter = 0\n",
    "\n",
    "#another SEP run to pick out sources from the residuals. In theory, these will be a certain set value from the median template and worth doing photometry on.\n",
    "for pics in residuals:\n",
    "    bkg = sep.Background(pics)\n",
    "    extracted = sep.extract(pics -bkg.back(), bkg.globalrms *3, minarea = 20, segmentation_map = False)\n",
    "    header = fits.Header([fits.Card(\"History\", \"Extracted by sep\")])\n",
    "    hdul = fits.HDUList([fits.PrimaryHDU(pics), fits.BinTableHDU(data = extracted, header = header, name =\"SEP\", ver  = None)]) \n",
    "    hdul.writeto(outstr.format(counter))\n",
    "    counter += 1\n",
    "\n",
    "end = time.time()\n",
    "elapsed = end - start\n",
    "msg = \"Done in: {} seconds\"\n",
    "print(msg.format(elapsed))\n",
    "print(mask_count)"
   ]
  }
 ],
 "metadata": {
  "kernelspec": {
   "display_name": "Python 3.9.2 64-bit",
   "language": "python",
   "name": "python3"
  },
  "language_info": {
   "codemirror_mode": {
    "name": "ipython",
    "version": 3
   },
   "file_extension": ".py",
   "mimetype": "text/x-python",
   "name": "python",
   "nbconvert_exporter": "python",
   "pygments_lexer": "ipython3",
   "version": "3.9.2"
  },
  "orig_nbformat": 4,
  "vscode": {
   "interpreter": {
    "hash": "2279f055fc79bfa7f36518c703541e0c00c4ba8691d8c0969e7fe2aaddd10293"
   }
  }
 },
 "nbformat": 4,
 "nbformat_minor": 2
}
